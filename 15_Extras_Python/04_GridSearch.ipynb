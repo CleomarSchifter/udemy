{
 "cells": [
  {
   "cell_type": "code",
   "execution_count": 12,
   "metadata": {
    "collapsed": false
   },
   "outputs": [],
   "source": [
    "# Import libraries\n",
    "import pandas\n",
    "import numpy\n",
    "import sklearn\n",
    "from sklearn.model_selection import KFold, cross_val_score, GridSearchCV, train_test_split\n",
    "from sklearn.feature_selection import SelectKBest, f_classif\n",
    "from collections import Counter\n",
    "from matplotlib import pyplot\n",
    "from pickle import dump, load\n",
    "from sklearn.preprocessing import StandardScaler\n",
    "from sklearn.metrics import confusion_matrix, classification_report \n",
    "from sklearn.svm import SVC\n",
    "from sklearn.tree import DecisionTreeClassifier\n",
    "from sklearn.naive_bayes import GaussianNB\n",
    "from sklearn.ensemble import RandomForestClassifier, GradientBoostingClassifier, AdaBoostClassifier\n",
    "from math import ceil\n",
    "# Note, you need sklearn: 0.18.1 installed\n",
    "# print('sklearn: {}'.format(sklearn.__version__))\n",
    "# conda config --set ssl_verify False"
   ]
  },
  {
   "cell_type": "code",
   "execution_count": 9,
   "metadata": {
    "collapsed": true
   },
   "outputs": [],
   "source": [
    "# Some \"global\" parameters\n",
    "seed = 7\n",
    "scoring = 'recall'\n",
    "test_size = 0.25\n",
    "n_splits = 10\n",
    "kfold = KFold(n_splits=n_splits, random_state=seed) "
   ]
  },
  {
   "cell_type": "code",
   "execution_count": 6,
   "metadata": {
    "collapsed": false
   },
   "outputs": [
    {
     "name": "stdout",
     "output_type": "stream",
     "text": [
      "(19788, 97)\n"
     ]
    }
   ],
   "source": [
    "# Load training dataset\n",
    "filename = 'data\\datasetFloridaPEDO.csv'\n",
    "dataset = pandas.read_csv(filename)\n",
    "print(dataset.shape)"
   ]
  },
  {
   "cell_type": "code",
   "execution_count": 7,
   "metadata": {
    "collapsed": false
   },
   "outputs": [
    {
     "name": "stdout",
     "output_type": "stream",
     "text": [
      "(19788, 97)\n",
      "(19788, 87)\n",
      "(19788, 75)\n",
      "(19788, 18)\n"
     ]
    }
   ],
   "source": [
    "# Perform some initial feature engineering\n",
    "print(dataset.shape)\n",
    "\n",
    "# Remove some columns which are not predictors (first 10 columns)\n",
    "dataset = dataset.ix[:,10:]\n",
    "print(dataset.shape)\n",
    "\n",
    "# Remove constant variables\n",
    "dataset = dataset.loc[:, dataset.apply(pandas.Series.nunique) != 1]\n",
    "print(dataset.shape)\n",
    "\n",
    "# Remove some highly correlated variables (Performed manually)\n",
    "# to do...\n",
    "\n",
    "# For now, we are using the same features which have been chosen in R, by Recursive Feature Elimination (RF)\n",
    "dataset = dataset[['provider_age_time_of_service', 'amount_cost',  'amount_claim', 'total_comb1', 'member_age_time_of_service', 'zscore_comb1', 'n_claim_line_provider', 'is_radiography', 'comb4_div_comb1', 'is_exp_days_policy_exp', 'is_sealants', 'is_primary_tooth', 'is_insured_gender', 'is_posterior_tooth', 'is_member_under_10', 'comb2_div_comb1', 'is_exp_state_license_exp', 'target']]\n",
    "print(dataset.shape)"
   ]
  },
  {
   "cell_type": "code",
   "execution_count": 8,
   "metadata": {
    "collapsed": false
   },
   "outputs": [
    {
     "name": "stdout",
     "output_type": "stream",
     "text": [
      "target\n",
      "0    12683\n",
      "1     5072\n",
      "2     2033\n",
      "dtype: int64\n",
      "Counter({0.0: 17755, 1: 2033})\n"
     ]
    }
   ],
   "source": [
    "# Prepare the dataset\n",
    "array = dataset.values\n",
    "X = array[:,0:16]\n",
    "Y = array[:,17]\n",
    "\n",
    "# Prepare the target variable 0 = OK | 1 = Educational | 2 = Recoupment\n",
    "print(dataset.groupby('target').size())\n",
    "\n",
    "# Change Educational to 0 and Recoupment to 1\n",
    "Y = [0 if x==1 else x for x in Y]\n",
    "Y = [1 if x==2 else x for x in Y]\n",
    "\n",
    "# Print class distribution\n",
    "print(Counter(Y))"
   ]
  },
  {
   "cell_type": "code",
   "execution_count": 13,
   "metadata": {
    "collapsed": false
   },
   "outputs": [],
   "source": [
    "# Split into train and test sets (Not necessary - has been done via SQL)\n",
    "X_train, X_test, Y_train, Y_test = train_test_split(X, Y, test_size=test_size, random_state=seed)"
   ]
  },
  {
   "cell_type": "code",
   "execution_count": 52,
   "metadata": {
    "collapsed": false
   },
   "outputs": [],
   "source": [
    "# For now, we are using the same features which have been chosen in R, by Recursive Feature Elimination (RF)\n",
    "\n",
    "# Perform an univariate feature selection \n",
    "#selector = SelectKBest(score_func=f_classif, k=16)\n",
    "#fit = selector.fit(X_train, Y_train)\n",
    "\n",
    "# Summarize scores \n",
    "#print(fit.scores_)\n",
    "\n",
    "# Choose features\n",
    "#X_train = fit.transform(X_train)"
   ]
  },
  {
   "cell_type": "code",
   "execution_count": 14,
   "metadata": {
    "collapsed": false
   },
   "outputs": [
    {
     "name": "stdout",
     "output_type": "stream",
     "text": [
      "ADA: 0.263063 (0.043970)\n",
      "GB: 0.394578 (0.024889)\n",
      "RF: 0.572328 (0.052635)\n",
      "CART: 0.599141 (0.051869)\n",
      "NB: 0.438780 (0.026805)\n",
      "SVM: 0.374946 (0.034335)\n"
     ]
    }
   ],
   "source": [
    "# prepare models \n",
    "models = [] \n",
    "models.append(('ADA', AdaBoostClassifier())) \n",
    "models.append(('GB', GradientBoostingClassifier())) \n",
    "models.append(('RF', RandomForestClassifier())) \n",
    "models.append(('CART', DecisionTreeClassifier())) \n",
    "models.append(('NB', GaussianNB())) \n",
    "models.append(('SVM', SVC()))\n",
    "\n",
    "# evaluate each model in turn \n",
    "results = [] \n",
    "names = [] \n",
    "\n",
    "for name, model in models: \n",
    "    cv_results = cross_val_score(model, X_train, Y_train, cv=kfold, scoring=scoring) \n",
    "    results.append(cv_results)\n",
    "    names.append(name)\n",
    "    msg = \"%s: %f (%f)\" % (name, cv_results.mean(), cv_results.std()) \n",
    "    print(msg)"
   ]
  },
  {
   "cell_type": "code",
   "execution_count": 15,
   "metadata": {
    "collapsed": false
   },
   "outputs": [
    {
     "data": {
      "image/png": "[encoded data removed]",
      "text/plain": [
       "<matplotlib.figure.Figure at 0x13f751cbe80>"
      ]
     },
     "metadata": {},
     "output_type": "display_data"
    }
   ],
   "source": [
    "# Compare models\n",
    "fig = pyplot.figure() \n",
    "fig.suptitle('Algorithm Comparison') \n",
    "ax = fig.add_subplot(111) \n",
    "pyplot.boxplot(results) \n",
    "ax.set_xticklabels(names) \n",
    "pyplot.show()"
   ]
  },
  {
   "cell_type": "code",
   "execution_count": 74,
   "metadata": {
    "collapsed": false
   },
   "outputs": [
    {
     "data": {
      "text/plain": [
       "RandomForestClassifier(bootstrap=True, class_weight={0: 0.1, 1: 0.9},\n",
       "            criterion='entropy', max_depth=None, max_features='sqrt',\n",
       "            max_leaf_nodes=None, min_impurity_split=1e-07,\n",
       "            min_samples_leaf=1, min_samples_split=2,\n",
       "            min_weight_fraction_leaf=0.0, n_estimators=400, n_jobs=1,\n",
       "            oob_score=False, random_state=7, verbose=0, warm_start=False)"
      ]
     },
     "execution_count": 74,
     "metadata": {},
     "output_type": "execute_result"
    }
   ],
   "source": [
    "# Create the baseline model (the best one from model comparison task)\n",
    "baseline = RandomForestClassifier(random_state = seed, class_weight = {0: 0.1, 1: 0.9}, n_estimators = 400, max_features = \"sqrt\", criterion = \"entropy\") \n",
    "baseline.fit(X_train, Y_train)"
   ]
  },
  {
   "cell_type": "code",
   "execution_count": 75,
   "metadata": {
    "collapsed": false
   },
   "outputs": [
    {
     "name": "stdout",
     "output_type": "stream",
     "text": [
      "[[4306  143]\n",
      " [ 199  299]]\n",
      "             precision    recall  f1-score   support\n",
      "\n",
      "        0.0       0.96      0.97      0.96      4449\n",
      "        1.0       0.68      0.60      0.64       498\n",
      "\n",
      "avg / total       0.93      0.93      0.93      4947\n",
      "\n"
     ]
    }
   ],
   "source": [
    "# Test the best model\n",
    "predictions = baseline.predict(X_test)\n",
    "print(confusion_matrix(Y_test, predictions))\n",
    "print(classification_report(Y_test, predictions))"
   ]
  },
  {
   "cell_type": "code",
   "execution_count": 19,
   "metadata": {
    "collapsed": false
   },
   "outputs": [
    {
     "name": "stdout",
     "output_type": "stream",
     "text": [
      "Best: 0.521500 using {'min_samples_split': 0.004, 'criterion': 'entropy', 'max_features': 'sqrt', 'splitter': 'best'}\n"
     ]
    }
   ],
   "source": [
    "# Model tuning for CART\n",
    "model = DecisionTreeClassifier(random_state = seed)\n",
    "\n",
    "# Grid search parameters\n",
    "param_grid = {\n",
    "    \"criterion\" : [\"gini\", \"entropy\"],\n",
    "    \"splitter\" :   [\"best\", \"random\"],\n",
    "    'max_features': ['sqrt', 'log2'],\n",
    "    'min_samples_split': [2, 0.0050, 0.0040, 0.0035]\n",
    "}\n",
    "\n",
    "# Execute the grid search\n",
    "CV_model = GridSearchCV(estimator=model, param_grid=param_grid, scoring=scoring, cv=kfold)\n",
    "CV_model_result = CV_model.fit(X_train, Y_train)\n",
    "\n",
    "# Print results\n",
    "print(\"Best: %f using %s\" % (CV_model_result.best_score_, CV_model_result.best_params_))"
   ]
  },
  {
   "cell_type": "code",
   "execution_count": null,
   "metadata": {
    "collapsed": false
   },
   "outputs": [],
   "source": [
    "# Model tuning for ADA\n",
    "DTC = DecisionTreeClassifier(random_state = seed)\n",
    "model = AdaBoostClassifier(base_estimator = DTC) \n",
    "\n",
    "# Grid search parameters\n",
    "param_grid = {\n",
    "    \"base_estimator__criterion\" : [\"gini\", \"entropy\"],\n",
    "    \"base_estimator__splitter\" :   [\"best\", \"random\"],\n",
    "    'base_estimator__max_features': ['sqrt', 'log2'],\n",
    "    'base_estimator__min_samples_split': [0.0050, 0.0040, 0.0035],\n",
    "    \"n_estimators\": [40,50,60,70,100,150,200,500],\n",
    "    \"learning_rate\": [0.1, 0.05, 0.02, 0.01]\n",
    "}\n",
    "\n",
    "# Execute the grid search\n",
    "CV_model = GridSearchCV(estimator=model, param_grid=param_grid, scoring=scoring, cv=kfold)\n",
    "CV_model_result = CV_model.fit(X_train, Y_train)\n",
    "\n",
    "# Print results\n",
    "print(\"Best: %f using %s\" % (CV_model_result.best_score_, CV_model_result.best_params_))\n",
    "\n",
    "#means = CV_model_result.cv_results_['mean_test_score']\n",
    "#stds = CV_model_result.cv_results_['std_test_score']\n",
    "#params = CV_model_result.cv_results_['params']\n",
    "#for mean, stdev, param in zip(means, stds, params): \n",
    "#    print(\"%f (%f) with: %r\" % (mean, stdev, param))"
   ]
  },
  {
   "cell_type": "code",
   "execution_count": null,
   "metadata": {
    "collapsed": false
   },
   "outputs": [],
   "source": [
    "# Model tuning for GB\n",
    "model = GradientBoostingClassifier(random_state = seed)\n",
    "\n",
    "# Grid search parameters\n",
    "param_grid = {\n",
    "    \"n_estimators\": [40,50,60,70,100,150,200,500],\n",
    "    'learning_rate': [0.1, 0.05, 0.02, 0.01],\n",
    "    \n",
    "    #'max_depth': [5, 6, 7, 8],\n",
    "    #'min_samples_leaf': [?],\n",
    "    'min_samples_split': [0.0050, 0.0040, 0.0035],\n",
    "    \n",
    "    'subsample':[0.6,0.7,0.75,0.8,0.85,0.9],\n",
    "    'max_features': ['sqrt', 'log2']\n",
    "}\n",
    "\n",
    "# Execute the grid search\n",
    "CV_model = GridSearchCV(estimator=model, param_grid=param_grid, scoring=scoring, cv=kfold)\n",
    "CV_model_result = CV_model.fit(X_train, Y_train)\n",
    "\n",
    "# Print results\n",
    "print(\"Best: %f using %s\" % (CV_model_result.best_score_, CV_model_result.best_params_))"
   ]
  },
  {
   "cell_type": "code",
   "execution_count": 63,
   "metadata": {
    "collapsed": false
   },
   "outputs": [
    {
     "name": "stdout",
     "output_type": "stream",
     "text": [
      "Best: 0.636635 using {'class_weight': {0: 0.1, 1: 0.9}, 'n_estimators': 500, 'max_features': 'sqrt', 'criterion': 'entropy'}\n"
     ]
    }
   ],
   "source": [
    "# Model tuning for RF\n",
    "model = RandomForestClassifier(random_state = seed) \n",
    "\n",
    "# Grid search parameters\n",
    "param_grid = {\n",
    "    \"n_estimators\": [40,50,60,70,100,150,200,500,550,600],\n",
    "    \"class_weight\": [{0:.1, 1:.9}],\n",
    "    \"criterion\" : [\"gini\", \"entropy\"],\n",
    "    'max_features': ['sqrt', 'log2']\n",
    "    #'min_samples_split': [2, 0.0050, 0.0040, 0.0035],\n",
    "    #'max_depth': [5, 6, 7, 8],\n",
    "    #'min_samples_leaf': [?]\n",
    "    \n",
    "}\n",
    "\n",
    "# Execute the grid search\n",
    "CV_model = GridSearchCV(estimator=model, param_grid=param_grid, scoring=scoring, cv=kfold)\n",
    "CV_model_result = CV_model.fit(X_train, Y_train)\n",
    "\n",
    "# Print results\n",
    "print(\"Best: %f using %s\" % (CV_model_result.best_score_, CV_model_result.best_params_))"
   ]
  },
  {
   "cell_type": "code",
   "execution_count": null,
   "metadata": {
    "collapsed": false
   },
   "outputs": [],
   "source": [
    "# Model tuning for SVM\n",
    "model = SVC(random_state = seed)\n",
    "\n",
    "# Grid search parameters\n",
    "param_grid = {\n",
    "    \"c_values\" : [0.1, 0.3, 0.5, 0.7, 0.9, 1.0, 1.3, 1.5, 1.7, 2.0],\n",
    "    \"kernel_values\" : ['linear', 'poly', 'rbf', 'sigmoid'],\n",
    "    \"class_weight\" : [{1: 10}]\n",
    "}\n",
    "\n",
    "# Execute the grid search\n",
    "CV_model = GridSearchCV(estimator=model, param_grid=param_grid, scoring=scoring, cv=kfold)\n",
    "CV_model_result = CV_model.fit(X_train, Y_train)\n",
    "\n",
    "# Print results\n",
    "print(\"Best: %f using %s\" % (CV_model_result.best_score_, CV_model_result.best_params_))"
   ]
  },
  {
   "cell_type": "code",
   "execution_count": 117,
   "metadata": {
    "collapsed": false
   },
   "outputs": [],
   "source": [
    "# Build the optimized model\n"
   ]
  },
  {
   "cell_type": "code",
   "execution_count": null,
   "metadata": {
    "collapsed": true
   },
   "outputs": [],
   "source": [
    "# Test the optimized model\n"
   ]
  },
  {
   "cell_type": "code",
   "execution_count": 74,
   "metadata": {
    "collapsed": false
   },
   "outputs": [],
   "source": [
    "# Save the model to disk \n",
    "filename = 'binary_class_model.sav' \n",
    "dump(baseline, open(filename, 'wb'))\n",
    "\n",
    "# load the model from disk \n",
    "#loaded_model = load(open(filename, 'rb')) \n",
    "#result = loaded_model.score(X_test, Y_test) \n",
    "#print(result)# Create the final model"
   ]
  },
  {
   "cell_type": "code",
   "execution_count": null,
   "metadata": {
    "collapsed": true
   },
   "outputs": [],
   "source": []
  }
 ],
 "metadata": {
  "anaconda-cloud": {},
  "kernelspec": {
   "display_name": "Python [default]",
   "language": "python",
   "name": "python3"
  },
  "language_info": {
   "codemirror_mode": {
    "name": "ipython",
    "version": 3
   },
   "file_extension": ".py",
   "mimetype": "text/x-python",
   "name": "python",
   "nbconvert_exporter": "python",
   "pygments_lexer": "ipython3",
   "version": "3.5.2"
  }
 },
 "nbformat": 4,
 "nbformat_minor": 1
}
