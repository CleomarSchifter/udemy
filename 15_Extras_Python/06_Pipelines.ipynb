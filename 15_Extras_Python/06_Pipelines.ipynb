{
 "cells": [
  {
   "cell_type": "code",
   "execution_count": 144,
   "metadata": {
    "collapsed": false
   },
   "outputs": [],
   "source": [
    "# Import libraries\n",
    "import numpy as np\n",
    "import pandas as pd\n",
    "import csv\n",
    "from sklearn import preprocessing\n",
    "from sklearn.preprocessing import OneHotEncoder\n",
    "\n",
    "from collections import Counter\n",
    "from sklearn.feature_selection import SelectKBest, f_classif\n",
    "from sklearn.decomposition import PCA \n",
    "\n",
    "from sklearn.model_selection import KFold, cross_val_score, GridSearchCV, train_test_split\n",
    "\n",
    "from sklearn.metrics import confusion_matrix, classification_report \n",
    "from sklearn.svm import SVC\n",
    "from sklearn.tree import DecisionTreeClassifier\n",
    "from sklearn.ensemble import RandomForestClassifier, GradientBoostingClassifier, AdaBoostClassifier\n",
    "\n",
    "from matplotlib import pyplot\n",
    "import random\n",
    "\n",
    "from datetime import datetime, timedelta\n",
    "\n",
    "from pickle import dump, load\n",
    "\n",
    "from sklearn.pipeline import Pipeline\n",
    "from sklearn.pipeline import FeatureUnion "
   ]
  },
  {
   "cell_type": "code",
   "execution_count": 150,
   "metadata": {
    "collapsed": false
   },
   "outputs": [
    {
     "name": "stdout",
     "output_type": "stream",
     "text": [
      "(13230, 247)\n"
     ]
    }
   ],
   "source": [
    "# Load training dataset\n",
    "filename = 'data\\TRAIN_CLAIM_FL_ALL_GROUPED.csv'\n",
    "dataset = pd.read_csv(filename, low_memory=False)\n",
    "print(dataset.shape)"
   ]
  },
  {
   "cell_type": "code",
   "execution_count": 151,
   "metadata": {
    "collapsed": false
   },
   "outputs": [
    {
     "name": "stdout",
     "output_type": "stream",
     "text": [
      "Counter({0: 7427, 1: 5803})\n"
     ]
    }
   ],
   "source": [
    "# Extract the target variable and checking the class distribution\n",
    "target = dataset['target']\n",
    "print(Counter(target))"
   ]
  },
  {
   "cell_type": "code",
   "execution_count": 153,
   "metadata": {
    "collapsed": false
   },
   "outputs": [
    {
     "name": "stdout",
     "output_type": "stream",
     "text": [
      "(13230, 235)\n",
      "                             hasMissing\n",
      "qtdclaimsprovider                  True\n",
      "qtdclaimlinesprovider              True\n",
      "qtdmemberprovider                  True\n",
      "avgticketperclaimprovider          True\n",
      "avgticketpermemberprovider         True\n",
      "avgclaimspermemberprovider         True\n",
      "avgclaimlineperclaimprovider       True\n",
      "qtdclaimsmember                    True\n",
      "qtdclaimlinesmember                True\n",
      "qtdprovidermember                  True\n",
      "avgticketperclaimmember            True\n",
      "avgticketperprovidermember         True\n",
      "avgclaimsperprovidermember         True\n",
      "avgclaimlineperclaimmember         True\n",
      "provider_age_time_of_service       True\n",
      "amount_paid                        True\n",
      "133\n",
      "Counter({0: 7333, 1: 5764})\n",
      "Index(['source', '8080'], dtype='object')\n"
     ]
    }
   ],
   "source": [
    "######################################################################################################\n",
    "#Data exploratory\n",
    "#####################################################################################################\n",
    "\n",
    "# Filter Eligibles variables for the model (we did not drop provider_id and maxdos because they are goint to be used to split data)\n",
    "collist = dataset.columns.tolist()\n",
    "columnsToDrop = np.array(['claim_id', 'insured_id', 'specialty', 'facility_state', 'group_plan_id', 'mindos', \n",
    "                          'claim_line_id', 'cdt_code', 'cpt_code_classification', 'lb_cdt_code', \n",
    "                          'lb_cpt_code_classification', 'lb_specialty'\n",
    "                          \n",
    "                         ])\n",
    "for c in columnsToDrop:\n",
    "    collist.remove(c)\n",
    "datasetFiltered = dataset[collist]\n",
    "\n",
    "# Dataset shape\n",
    "print(datasetFiltered.shape)\n",
    "\n",
    "# Find columns with any missing values\n",
    "columnsDF = pd.DataFrame(datasetFiltered.isnull().any(), columns = np.array(['hasMissing']))\n",
    "print(columnsDF.query('hasMissing == True'))\n",
    "\n",
    "# Find rows with any missing values\n",
    "null_data = datasetFiltered[datasetFiltered.isnull().any(axis=1)]\n",
    "print(null_data.shape[0])\n",
    "\n",
    "# Ignore those rows with missing data\n",
    "datasetFiltered = datasetFiltered.dropna()\n",
    "\n",
    "# Extract the target variable and checking the class distribution\n",
    "target = datasetFiltered['target']\n",
    "datasetFiltered = datasetFiltered.drop('target', 1)\n",
    "print(Counter(target))\n",
    "\n",
    "# Extract the provider_id and DOS variables for future split\n",
    "provider_id = datasetFiltered['provider_id']\n",
    "datasetFiltered = datasetFiltered.drop('provider_id', 1)\n",
    "maxdos = datasetFiltered['maxdos']\n",
    "datasetFiltered = datasetFiltered.drop('maxdos', 1)\n",
    "\n",
    "# Descriptive stats\n",
    "pd.DataFrame(datasetFiltered.describe()).to_csv('descriptive_stats.csv')\n",
    "\n",
    "# Skew for each attribute \n",
    "pd.DataFrame(datasetFiltered.skew()).to_csv('skew.csv')\n",
    "\n",
    "# Correlations\n",
    "pd.DataFrame(datasetFiltered.corr(method='pearson')).to_csv('correlations.csv')\n",
    "\n",
    "# Are there constant variables?\n",
    "constant = datasetFiltered.loc[:, datasetFiltered.apply(pd.Series.nunique) == 1]\n",
    "print(constant.columns)\n",
    "\n",
    "# Checking some variable importance\n",
    "selector = SelectKBest(score_func=f_classif, k=10)\n",
    "fit = selector.fit(datasetFiltered, target)\n",
    "\n",
    "varImp = dict()\n",
    "for variable, score, topX in zip(datasetFiltered.columns, fit.scores_, selector.get_support()):\n",
    "    varImp[variable] = score\n",
    "pd.DataFrame.from_dict(varImp, orient='index').to_csv('varImp.csv')\n",
    "\n"
   ]
  },
  {
   "cell_type": "code",
   "execution_count": 154,
   "metadata": {
    "collapsed": false
   },
   "outputs": [
    {
     "name": "stdout",
     "output_type": "stream",
     "text": [
      "(13097, 112)\n",
      "Index(['avgclaimspermemberprovider', 'avgclaimlineperclaimprovider',\n",
      "       'member_age_time_of_service', 'provider_age_time_of_service',\n",
      "       'amount_paid', 'has_primary_tooth', 'min_total_comb1',\n",
      "       'min_zscore_comb4', '120', '140', '1203', '230', '250', 'PERIODONTICS',\n",
      "       '274', '2140', '290', '330', 'OTHER NON-DENTAL', '240', '272', '3240',\n",
      "       '260', '350', '3120', '4211', 'DIAGNOSTIC', '1208'],\n",
      "      dtype='object')\n"
     ]
    }
   ],
   "source": [
    "######################################################################################################\n",
    "#Feature selecion\n",
    "#####################################################################################################\n",
    "\n",
    "# Drop some correlated variables (manual analysis - greater than 0.6)\n",
    "collist = datasetFiltered.columns.tolist()\n",
    "columnsHighCorr_GT06 = np.array(['has_radiography','4355','is_member_under_10','9230','amount_claim','0230','amount_cost',\n",
    "                                 '2391','2933','PREVENTIVE','has_bitewing','2392','1120','7140','8220', '9310',\n",
    "                                 'has_stainless_steel_crowns','2930','ADJ','0272','has_pulpotomies','3220','1351',\n",
    "                                 'has_molar','RESTORATIVE', '3330', 'avgticketpermemberprovider', 'avgticketperclaimmember', \n",
    "                                 'avgticketperprovidermember', 'qtdmemberprovider', 'qtdclaimsmember', 'qtdclaimsprovider', \n",
    "                                 'avgclaimsperprovidermember',\n",
    "                                 'avg_total_comb1', 'max_total_comb1', 'avg_zscore_comb1', 'min_zscore_comb1', \n",
    "                                 'max_zscore_comb1', 'avg_total_comb2', 'avg_zscore_comb2', 'max_zscore_comb2', \n",
    "                                 'avg_zscore_comb3', 'max_zscore_comb3', 'avg_zscore_comb4', 'max_zscore_comb4',\n",
    "                                 'sum_total_comb1351', 'avg_total_comb1351', 'min_total_comb1351', 'max_total_comb1351', \n",
    "                                 'sum_total_comb0272','avg_total_comb0272', 'min_total_comb0272', 'max_total_comb0272',\n",
    "                                 'sum_total_comb2', 'max_total_comb2', 'sum_total_comb3', 'avg_total_comb3', \n",
    "                                 'max_total_comb3','sum_total_comb4', 'avg_total_comb4', 'max_total_comb4',\n",
    "                                 'sum_total_comb3220', 'avg_total_comb3220', 'max_total_comb3220', 'indicator_6_eligible',\n",
    "                                 'indicator_8_eligible', 'indicator_9_eligible', 'indicator_13_eligible', \n",
    "                                 'indicator_14_eligible', 'indicator_16_eligible', 'indicator_9_result', \n",
    "                                 'indicator_17_result', 'min_total_comb2', 'min_zscore_comb2', 'min_total_comb3',\n",
    "                                 'min_total_comb4', 'min_zscore_comb3', 'min_ratio_1351', 'max_ratio_1351', 'min_ratio_3220',\n",
    "                                 'max_ratio_3220', 'min_ratio_0272', 'max_ratio_0272', 'indicator_7_eligible', \n",
    "                                 'indicator_10_eligible', 'avg_total_combrest', 'min_total_combrest', 'max_total_combrest',\n",
    "                                 'min_ratio_rest', 'max_ratio_rest', 'sum_total_comb1', 'avgclaimlineperclaimmember',\n",
    "                                 'indicator_17_eligible', 'FQHC', '5120', '0260', 'source', '8080', 'indicator_2_eligible', \n",
    "                                 'indicator_11_eligible', 'indicator_12_eligible', 'min_total_comb3220',\n",
    "                                 'sum_total_combrest', 'avg_ratio_1351', 'avg_ratio_3220', 'avg_ratio_0272', \n",
    "                                 'avg_ratio_rest'\n",
    "                                \n",
    "                                ])\n",
    "\n",
    "for c in columnsHighCorr_GT06:\n",
    "    if c in collist:\n",
    "        collist.remove(c)\n",
    "datasetWithoutCorr = datasetFiltered[collist]\n",
    "\n",
    "# Drop some variables with low importance (p-value < 0.05)\n",
    "filtered_dict = {k:v for (k,v) in varImp.items() if v < 0.05}\n",
    "columnsLowImp = list(filtered_dict.keys())\n",
    "\n",
    "collist = datasetWithoutCorr.columns.tolist()\n",
    "for c in columnsLowImp:\n",
    "    if c in collist:\n",
    "        collist.remove(c)\n",
    "datasetHighImp = datasetWithoutCorr[collist]\n",
    "\n",
    "# Dataset dim\n",
    "print(datasetHighImp.shape)\n",
    "\n",
    "# New correlations\n",
    "pd.DataFrame(datasetHighImp.corr(method='pearson')).to_csv('correlations.csv')\n",
    "\n",
    "# Checking some variable importance\n",
    "selector = SelectKBest(score_func=f_classif, k=28)\n",
    "fit = selector.fit(datasetHighImp, target)\n",
    "\n",
    "varImp = dict()\n",
    "for variable, score, topX in zip(datasetHighImp.columns, fit.scores_, selector.get_support()):\n",
    "    varImp[variable] = score\n",
    "pd.DataFrame.from_dict(varImp, orient='index').to_csv('varImp.csv')\n",
    "\n",
    "# Show the top N most important features\n",
    "kbest = datasetHighImp.ix[0:10:,selector.get_support()]\n",
    "print(kbest.columns)\n"
   ]
  },
  {
   "cell_type": "code",
   "execution_count": 155,
   "metadata": {
    "collapsed": false
   },
   "outputs": [
    {
     "data": {
      "text/plain": [
       "['GD',\n",
       " '2390',\n",
       " '7111',\n",
       " 'PEDO',\n",
       " '4341',\n",
       " '1515',\n",
       " '7510',\n",
       " 'min_total_comb3220',\n",
       " '5820',\n",
       " 'has_ob_ol_surface',\n",
       " '7310',\n",
       " '3221',\n",
       " 'indicator_11_eligible',\n",
       " '2751',\n",
       " '1201',\n",
       " 'indicator_6_result',\n",
       " '1555',\n",
       " '2393']"
      ]
     },
     "execution_count": 155,
     "metadata": {},
     "output_type": "execute_result"
    }
   ],
   "source": [
    "columnsLowImp"
   ]
  },
  {
   "cell_type": "code",
   "execution_count": 163,
   "metadata": {
    "collapsed": false
   },
   "outputs": [],
   "source": [
    "######################################################################################################\n",
    "# Some \"global\" parameters\n",
    "#####################################################################################################\n",
    "seed = 7\n",
    "scoring = 'precision'\n",
    "test_size = 0.25\n",
    "n_splits = 10\n",
    "kfold = KFold(n_splits=n_splits, random_state=seed) "
   ]
  },
  {
   "cell_type": "code",
   "execution_count": 157,
   "metadata": {
    "collapsed": false
   },
   "outputs": [],
   "source": [
    "######################################################################################################\n",
    "# Random split\n",
    "#####################################################################################################\n",
    "\n",
    "# Prepare the dataset\n",
    "X = datasetHighImp.values\n",
    "Y = target\n",
    "\n",
    "# Split into train and test sets\n",
    "X_train, X_test, Y_train, Y_test = train_test_split(X, Y, test_size=test_size)"
   ]
  },
  {
   "cell_type": "code",
   "execution_count": 134,
   "metadata": {
    "collapsed": false
   },
   "outputs": [],
   "source": [
    "######################################################################################################\n",
    "# Provider split\n",
    "#####################################################################################################\n",
    "\n",
    "# Append provider_id + target to the dataset\n",
    "datasetSplit = pd.concat([datasetHighImp, provider_id, target], axis=1)\n",
    "\n",
    "# Split by provider_id\n",
    "N = provider_id.size\n",
    "sampleDesiredSize = N * test_size\n",
    "uniqueProviders = list(provider_id.unique())\n",
    "dictProviders = Counter(provider_id)\n",
    "testSample = pd.DataFrame()\n",
    "\n",
    "sampleSize = 0\n",
    "while (sampleSize < sampleDesiredSize):\n",
    "    #chose a random provider\n",
    "    p = random.choice(uniqueProviders)\n",
    "    #avoid duplicated observations\n",
    "    uniqueProviders.remove(p)\n",
    "    #select observations\n",
    "    pSample = datasetSplit[datasetSplit['provider_id'] == p]\n",
    "    #update the final sample\n",
    "    if (sampleSize == 0):\n",
    "        testSample = pSample.copy()\n",
    "    else:\n",
    "        testSample = testSample.append(pSample, ignore_index=True)\n",
    "    #update the sample size\n",
    "    sampleSize = sampleSize + dictProviders[p]\n",
    "\n",
    "# Filter the train sample\n",
    "testProviders = testSample.provider_id.unique()\n",
    "trainSample = datasetSplit[~datasetSplit['provider_id'].isin(testProviders)]\n",
    "\n",
    "# Remove support columns\n",
    "del trainSample['provider_id']\n",
    "del testSample['provider_id']\n",
    "\n",
    "# Prepare the train dataset\n",
    "Y_train = trainSample.target\n",
    "del trainSample['target']\n",
    "X_train = trainSample.values\n",
    "\n",
    "# Prepare the test dataset\n",
    "Y_test = testSample.target\n",
    "del testSample['target']\n",
    "X_test = testSample.values"
   ]
  },
  {
   "cell_type": "code",
   "execution_count": 142,
   "metadata": {
    "collapsed": false
   },
   "outputs": [],
   "source": [
    "######################################################################################################\n",
    "# Date split\n",
    "#####################################################################################################\n",
    "\n",
    "# Append provider_id + target to the dataset\n",
    "DOS = pd.to_datetime(maxdos, format='%Y-%m-%d')\n",
    "datasetSplit = pd.concat([datasetHighImp, DOS, target], axis=1)\n",
    "\n",
    "# Split by date\n",
    "N = DOS.size\n",
    "sampleDesiredSize = N * test_size\n",
    "dictDates = Counter(DOS)\n",
    "testSample = pd.DataFrame()\n",
    "\n",
    "sampleSize = 0\n",
    "\n",
    "# Verify the last eligible date to get the sample size\n",
    "dataset_dates = dict(datasetSplit.groupby('maxdos').size())\n",
    "it = iter(sorted(dataset_dates.items(), reverse=True))\n",
    "valid = 0\n",
    "while (valid < sampleDesiredSize):\n",
    "    maxDate = next(it)\n",
    "    valid = valid + maxDate[1]\n",
    "\n",
    "#chose a random date\n",
    "d = random.choice((datasetSplit[datasetSplit['maxdos'] <= maxDate[0]])['maxdos'])\n",
    "while (sampleSize < sampleDesiredSize):\n",
    "    #select observations\n",
    "    dSample = datasetSplit[datasetSplit['maxdos'] == d]\n",
    "    #update the final sample\n",
    "    if (sampleSize == 0):\n",
    "        testSample = dSample.copy()\n",
    "    else:\n",
    "        testSample = testSample.append(dSample, ignore_index=True)\n",
    "    #update the sample size\n",
    "    sampleSize = sampleSize + dSample.shape[0]\n",
    "    #next day\n",
    "    d = d + timedelta(days=1)\n",
    "\n",
    "# Filter the train sample\n",
    "testDates = testSample.maxdos.unique()\n",
    "trainSample = datasetSplit[~datasetSplit['maxdos'].isin(testDates)]\n",
    "\n",
    "# Remove support columns\n",
    "del trainSample['maxdos']\n",
    "del testSample['maxdos']\n",
    "\n",
    "# Prepare the train dataset\n",
    "Y_train = trainSample.target\n",
    "del trainSample['target']\n",
    "X_train = trainSample.values\n",
    "\n",
    "# Prepare the test dataset\n",
    "Y_test = testSample.target\n",
    "del testSample['target']\n",
    "X_test = testSample.values"
   ]
  },
  {
   "cell_type": "code",
   "execution_count": 136,
   "metadata": {
    "collapsed": false
   },
   "outputs": [],
   "source": [
    "######################################################################################################\n",
    "# Date split 90/10\n",
    "#####################################################################################################\n",
    "\n",
    "# Append provider_id + target to the dataset\n",
    "DOS = pd.to_datetime(maxdos, format='%Y-%m-%d')\n",
    "datasetSplit = pd.concat([datasetHighImp, DOS, target], axis=1)\n",
    "\n",
    "# Split by date\n",
    "N = DOS.size\n",
    "sampleDesiredSize = N * test_size\n",
    "testSample = pd.DataFrame()\n",
    "\n",
    "# Verify the last eligible date to filter the sample\n",
    "dataset_dates = dict(datasetSplit.groupby('maxdos').size())\n",
    "it = iter(sorted(dataset_dates.items(), reverse=True))\n",
    "valid = 0\n",
    "while (valid < sampleDesiredSize):\n",
    "    maxDate = next(it)\n",
    "    valid = valid + maxDate[1]\n",
    "\n",
    "# Filter datasets\n",
    "testSample = datasetSplit[datasetSplit['maxdos'] >= maxDate[0]]\n",
    "trainSample = datasetSplit[datasetSplit['maxdos'] < maxDate[0]]\n",
    "\n",
    "# Remove support columns\n",
    "del trainSample['maxdos']\n",
    "del testSample['maxdos']\n",
    "\n",
    "# Prepare the train dataset\n",
    "Y_train = trainSample.target\n",
    "del trainSample['target']\n",
    "X_train = trainSample.values\n",
    "\n",
    "# Prepare the test dataset\n",
    "Y_test = testSample.target\n",
    "del testSample['target']\n",
    "X_test = testSample.values"
   ]
  },
  {
   "cell_type": "code",
   "execution_count": 159,
   "metadata": {
    "collapsed": false
   },
   "outputs": [
    {
     "name": "stdout",
     "output_type": "stream",
     "text": [
      "ADA: 0.678765 (0.029405)\n",
      "GB: 0.729727 (0.015763)\n",
      "RF: 0.752819 (0.013526)\n",
      "CART: 0.790444 (0.015122)\n"
     ]
    },
    {
     "data": {
      "image/png": "[encoded data removed]",
      "text/plain": [
       "<matplotlib.figure.Figure at 0x289d18e2f28>"
      ]
     },
     "metadata": {},
     "output_type": "display_data"
    }
   ],
   "source": [
    "import warnings\n",
    "warnings.filterwarnings('ignore')\n",
    "\n",
    "# prepare models \n",
    "models = [] \n",
    "models.append(('ADA', AdaBoostClassifier())) \n",
    "models.append(('GB', GradientBoostingClassifier())) \n",
    "models.append(('RF', RandomForestClassifier())) \n",
    "models.append(('CART', DecisionTreeClassifier())) \n",
    "#models.append(('SVM', SVC()))\n",
    "\n",
    "# evaluate each model in turn \n",
    "results = [] \n",
    "names = [] \n",
    "\n",
    "for name, model in models: \n",
    "    # Create pipeline\n",
    "    estimators = []\n",
    "#    estimators.append(('select_best', SelectKBest(k=28)))\n",
    "    estimators.append(('model', model))\n",
    "    pipeline = Pipeline(estimators)\n",
    "    cv_results = cross_val_score(pipeline, X_train, Y_train, cv=kfold, scoring=scoring) \n",
    "    results.append(cv_results)\n",
    "    names.append(name)\n",
    "    msg = \"%s: %f (%f)\" % (name, cv_results.mean(), cv_results.std()) \n",
    "    print(msg)\n",
    "\n",
    "# Compare models\n",
    "fig = pyplot.figure() \n",
    "fig.suptitle('Algorithm Comparison') \n",
    "ax = fig.add_subplot(111) \n",
    "pyplot.boxplot(results) \n",
    "ax.set_xticklabels(names) \n",
    "pyplot.show()"
   ]
  },
  {
   "cell_type": "code",
   "execution_count": 161,
   "metadata": {
    "collapsed": false
   },
   "outputs": [
    {
     "name": "stdout",
     "output_type": "stream",
     "text": [
      "[[1569  295]\n",
      " [ 260 1151]]\n",
      "             precision    recall  f1-score   support\n",
      "\n",
      "          0       0.86      0.84      0.85      1864\n",
      "          1       0.80      0.82      0.81      1411\n",
      "\n",
      "avg / total       0.83      0.83      0.83      3275\n",
      "\n"
     ]
    }
   ],
   "source": [
    "# Create the baseline model (the best one from model comparison task)\n",
    "\n",
    "# Create pipeline\n",
    "estimators = []\n",
    "#estimators.append(('select_best', SelectKBest(k=28)))\n",
    "estimators.append(('model', DecisionTreeClassifier(random_state = seed)))\n",
    "baseline = Pipeline(estimators)\n",
    "baseline.fit(X_train, Y_train)\n",
    "#we can change param values -> baseline.set_params(select_best__k=8)\n",
    "\n",
    "# Feature importance\n",
    "#selector = baseline.named_steps['select_best']\n",
    "#selectedFeatures = datasetHighImp.ix[:,selector.get_support()]\n",
    "#model = baseline.named_steps['model']\n",
    "#featureName = pd.DataFrame(selectedFeatures.columns, columns=['Feature'])\n",
    "#featureImp = pd.DataFrame(model.feature_importances_, columns=['Imp'])\n",
    "#pd.concat([featureName, featureImp], axis=1).to_csv('varImpTree.csv')\n",
    "\n",
    "# Test the best model\n",
    "predictions = baseline.predict(X_test)\n",
    "print(confusion_matrix(Y_test, predictions))\n",
    "print(classification_report(Y_test, predictions))"
   ]
  },
  {
   "cell_type": "code",
   "execution_count": null,
   "metadata": {
    "collapsed": false
   },
   "outputs": [
    {
     "name": "stdout",
     "output_type": "stream",
     "text": [
      "17:18:28\n"
     ]
    }
   ],
   "source": [
    "import time\n",
    "print(time.strftime(\"%H:%M:%S\"))\n",
    "# Model tuning for CART\n",
    "model = DecisionTreeClassifier(random_state = seed)\n",
    "\n",
    "# Grid search parameters\n",
    "param_grid = {\n",
    "    'criterion' : [\"gini\", \"entropy\"],\n",
    "    'splitter' :   [\"best\", \"random\"],\n",
    "    'max_features': ['sqrt', 'log2'],\n",
    "    'min_samples_split': [0.01, 0.0050, 0.0040, 0.0035, 0.0030],\n",
    "    'min_samples_leaf' : [0.01, 0.0050, 0.0040, 0.0035, 0.0030],\n",
    "    'max_depth': [10,20,25,30,40],\n",
    "    'min_impurity_split' : [0.01, 0.0050, 0.0040, 0.0035, 0.0030],\n",
    "    'class_weight': [{0:.1, 1:.9}, {0:.3, 1:.7}, \"balanced\"],\n",
    "    'presort' : [True, False]\n",
    "}\n",
    "\n",
    "# Execute the grid search\n",
    "CV_model = GridSearchCV(estimator=model, param_grid=param_grid, scoring=scoring, cv=kfold)\n",
    "CV_model_result = CV_model.fit(X_train, Y_train)\n",
    "\n",
    "# Print results\n",
    "print(\"Best: %f using %s\" % (CV_model_result.best_score_, CV_model_result.best_params_))\n",
    "print(time.strftime(\"%H:%M:%S\"))"
   ]
  },
  {
   "cell_type": "code",
   "execution_count": 25,
   "metadata": {
    "collapsed": false
   },
   "outputs": [],
   "source": [
    "# Save the model to disk \n",
    "filename = 'binary_class_model.sav' \n",
    "dump(baseline, open(filename, 'wb'))\n",
    "\n",
    "# load the model from disk \n",
    "#loaded_model = load(open(filename, 'rb')) \n",
    "#result = loaded_model.score(X_test, Y_test) \n",
    "#print(result)# Create the final model"
   ]
  },
  {
   "cell_type": "code",
   "execution_count": null,
   "metadata": {
    "collapsed": true
   },
   "outputs": [],
   "source": []
  }
 ],
 "metadata": {
  "anaconda-cloud": {},
  "kernelspec": {
   "display_name": "Python [default]",
   "language": "python",
   "name": "python3"
  },
  "language_info": {
   "codemirror_mode": {
    "name": "ipython",
    "version": 3
   },
   "file_extension": ".py",
   "mimetype": "text/x-python",
   "name": "python",
   "nbconvert_exporter": "python",
   "pygments_lexer": "ipython3",
   "version": "3.5.2"
  }
 },
 "nbformat": 4,
 "nbformat_minor": 1
}
