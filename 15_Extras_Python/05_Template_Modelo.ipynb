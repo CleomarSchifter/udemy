{
 "cells": [
  {
   "cell_type": "code",
   "execution_count": 120,
   "metadata": {
    "collapsed": false
   },
   "outputs": [],
   "source": [
    "# Import libraries\n",
    "import numpy as np\n",
    "import pandas as pd\n",
    "import csv\n",
    "from sklearn import preprocessing\n",
    "from sklearn.preprocessing import OneHotEncoder\n",
    "\n",
    "from collections import Counter\n",
    "from sklearn.feature_selection import SelectKBest, f_classif\n",
    "\n",
    "from sklearn.model_selection import KFold, cross_val_score, GridSearchCV, train_test_split\n",
    "\n",
    "from sklearn.metrics import confusion_matrix, classification_report \n",
    "from sklearn.svm import SVC\n",
    "from sklearn.tree import DecisionTreeClassifier\n",
    "from sklearn.ensemble import RandomForestClassifier, GradientBoostingClassifier, AdaBoostClassifier\n",
    "\n",
    "from matplotlib import pyplot\n",
    "import random\n",
    "\n",
    "from datetime import datetime, timedelta\n",
    "\n",
    "from pickle import dump, load\n",
    "\n",
    "from sklearn.pipeline import Pipeline"
   ]
  },
  {
   "cell_type": "code",
   "execution_count": 121,
   "metadata": {
    "collapsed": false
   },
   "outputs": [
    {
     "name": "stdout",
     "output_type": "stream",
     "text": [
      "(13230, 244)\n"
     ]
    }
   ],
   "source": [
    "# Load training dataset\n",
    "filename = 'data\\TRAIN_CLAIM_FL_ALL_GROUPED.csv'\n",
    "dataset = pd.read_csv(filename, low_memory=False)\n",
    "print(dataset.shape)"
   ]
  },
  {
   "cell_type": "code",
   "execution_count": 122,
   "metadata": {
    "collapsed": false
   },
   "outputs": [
    {
     "name": "stdout",
     "output_type": "stream",
     "text": [
      "Counter({0: 7427, 1: 5803})\n"
     ]
    }
   ],
   "source": [
    "# Extract the target variable and checking the class distribution\n",
    "target = dataset['target']\n",
    "print(Counter(target))"
   ]
  },
  {
   "cell_type": "code",
   "execution_count": 123,
   "metadata": {
    "collapsed": false
   },
   "outputs": [
    {
     "name": "stdout",
     "output_type": "stream",
     "text": [
      "(13230, 224)\n",
      "                             hasMissing\n",
      "qtdclaimsprovider                  True\n",
      "qtdclaimlinesprovider              True\n",
      "qtdmemberprovider                  True\n",
      "avgticketperclaimprovider          True\n",
      "avgticketpermemberprovider         True\n",
      "avgclaimspermemberprovider         True\n",
      "avgclaimlineperclaimprovider       True\n",
      "qtdclaimsmember                    True\n",
      "qtdclaimlinesmember                True\n",
      "qtdprovidermember                  True\n",
      "avgticketperclaimmember            True\n",
      "avgticketperprovidermember         True\n",
      "avgclaimsperprovidermember         True\n",
      "avgclaimlineperclaimmember         True\n",
      "provider_age_time_of_service       True\n",
      "amount_paid                        True\n",
      "133\n",
      "Counter({0: 7333, 1: 5764})\n",
      "Index(['source', '8080'], dtype='object')\n"
     ]
    },
    {
     "name": "stderr",
     "output_type": "stream",
     "text": [
      "C:\\Users\\wmoura\\AppData\\Local\\Continuum\\Anaconda3\\lib\\site-packages\\sklearn\\feature_selection\\univariate_selection.py:113: UserWarning: Features [107 215] are constant.\n",
      "  UserWarning)\n"
     ]
    }
   ],
   "source": [
    "######################################################################################################\n",
    "#Data exploratory\n",
    "#####################################################################################################\n",
    "\n",
    "# Filter Eligibles variables for the model (we did not drop provider_id and maxdos because they are goint to be used to split data)\n",
    "collist = dataset.columns.tolist()\n",
    "columnsToDrop = np.array(['id', ~~])\n",
    "for c in columnsToDrop:\n",
    "    collist.remove(c)\n",
    "datasetFiltered = dataset[collist]\n",
    "\n",
    "# Dataset shape\n",
    "print(datasetFiltered.shape)\n",
    "\n",
    "# Find columns with any missing values\n",
    "columnsDF = pd.DataFrame(datasetFiltered.isnull().any(), columns = np.array(['hasMissing']))\n",
    "print(columnsDF.query('hasMissing == True'))\n",
    "\n",
    "# Find rows with any missing values\n",
    "null_data = datasetFiltered[datasetFiltered.isnull().any(axis=1)]\n",
    "print(null_data.shape[0])\n",
    "\n",
    "# Ignore those rows with missing data\n",
    "datasetFiltered = datasetFiltered.dropna()\n",
    "\n",
    "# Extract the target variable and checking the class distribution\n",
    "target = datasetFiltered['target']\n",
    "datasetFiltered = datasetFiltered.drop('target', 1)\n",
    "print(Counter(target))\n",
    "\n",
    "# Extract the provider_id and DOS variables for future split\n",
    "provider_id = datasetFiltered['provider_id']\n",
    "datasetFiltered = datasetFiltered.drop('provider_id', 1)\n",
    "maxdos = datasetFiltered['maxdos']\n",
    "datasetFiltered = datasetFiltered.drop('maxdos', 1)\n",
    "\n",
    "# Descriptive stats\n",
    "pd.DataFrame(datasetFiltered.describe()).to_csv('descriptive_stats.csv')\n",
    "\n",
    "# Skew for each attribute \n",
    "pd.DataFrame(datasetFiltered.skew()).to_csv('skew.csv')\n",
    "\n",
    "# Correlations\n",
    "pd.DataFrame(datasetFiltered.corr(method='pearson')).to_csv('correlations.csv')\n",
    "\n",
    "# Are there constant variables?\n",
    "constant = datasetFiltered.loc[:, datasetFiltered.apply(pd.Series.nunique) == 1]\n",
    "print(constant.columns)\n",
    "\n",
    "# Checking some variable importance\n",
    "selector = SelectKBest(score_func=f_classif, k=10)\n",
    "fit = selector.fit(datasetFiltered, target)\n",
    "\n",
    "varImp = dict()\n",
    "for variable, score, topX in zip(datasetFiltered.columns, fit.scores_, selector.get_support()):\n",
    "    varImp[variable] = score\n",
    "pd.DataFrame.from_dict(varImp, orient='index').to_csv('varImp.csv')\n",
    "\n"
   ]
  },
  {
   "cell_type": "code",
   "execution_count": 124,
   "metadata": {
    "collapsed": false
   },
   "outputs": [
    {
     "name": "stdout",
     "output_type": "stream",
     "text": [
      "(13097, 109)\n"
     ]
    }
   ],
   "source": [
    "######################################################################################################\n",
    "#Feature selecion\n",
    "#####################################################################################################\n",
    "\n",
    "# Drop some correlated variables (manual analysis - greater than 0.6)\n",
    "collist = datasetFiltered.columns.tolist()\n",
    "columnsHighCorr_GT06 = np.array(['has_radiography','4355','is_member_under_10','9230','amount_claim','0230','amount_cost',\n",
    "                                 '2391','2933','PREVENTIVE','has_bitewing','2392','1120','7140','8220', '9310',\n",
    "                                 'has_stainless_steel_crowns','2930','ADJ','0272','has_pulpotomies','3220','1351',\n",
    "                                 'has_molar','RESTORATIVE', '3330', 'avgticketpermemberprovider', 'avgticketperclaimmember', \n",
    "                                 'avgticketperprovidermember', 'qtdmemberprovider', 'qtdclaimsmember', 'qtdclaimsprovider', \n",
    "                                 'avgclaimsperprovidermember',\n",
    "                                 'avg_total_comb1', 'max_total_comb1', 'avg_zscore_comb1', 'min_zscore_comb1', \n",
    "                                 'max_zscore_comb1', 'avg_total_comb2', 'avg_zscore_comb2', 'max_zscore_comb2', \n",
    "                                 'avg_zscore_comb3', 'max_zscore_comb3', 'avg_zscore_comb4', 'max_zscore_comb4',\n",
    "                                 'sum_total_comb1351', 'avg_total_comb1351', 'min_total_comb1351', 'max_total_comb1351', \n",
    "                                 'sum_total_comb0272','avg_total_comb0272', 'min_total_comb0272', 'max_total_comb0272',\n",
    "                                 'sum_total_comb2', 'max_total_comb2', 'sum_total_comb3', 'avg_total_comb3', \n",
    "                                 'max_total_comb3','sum_total_comb4', 'avg_total_comb4', 'max_total_comb4',\n",
    "                                 'sum_total_comb3220', 'avg_total_comb3220', 'max_total_comb3220', 'indicator_6_eligible',\n",
    "                                 'indicator_8_eligible', 'indicator_9_eligible', 'indicator_13_eligible', \n",
    "                                 'indicator_14_eligible', 'indicator_16_eligible', 'indicator_9_result', \n",
    "                                 'indicator_17_result', 'min_total_comb2', 'min_zscore_comb2', 'min_total_comb3',\n",
    "                                 'min_total_comb4', 'min_zscore_comb3', 'min_ratio_1351', 'max_ratio_1351', 'min_ratio_3220',\n",
    "                                 'max_ratio_3220', 'min_ratio_0272', 'max_ratio_0272', 'indicator_7_eligible', \n",
    "                                 'indicator_10_eligible', 'avg_total_combrest', 'min_total_combrest', 'max_total_combrest',\n",
    "                                 'min_ratio_rest', 'max_ratio_rest', 'sum_total_comb1', 'avgclaimlineperclaimmember',\n",
    "                                 'indicator_17_eligible', 'FQHC', '5120', '0260', 'source', '8080'\n",
    "                                \n",
    "                                ])\n",
    "\n",
    "for c in columnsHighCorr_GT06:\n",
    "    if c in collist:\n",
    "        collist.remove(c)\n",
    "datasetWithoutCorr = datasetFiltered[collist]\n",
    "\n",
    "# Drop some variables with low importance (p-value < 0.05)\n",
    "filtered_dict = {k:v for (k,v) in varImp.items() if v < 0.05}\n",
    "columnsLowImp = list(filtered_dict.keys())\n",
    "\n",
    "collist = datasetWithoutCorr.columns.tolist()\n",
    "for c in columnsLowImp:\n",
    "    if c in collist:\n",
    "        collist.remove(c)\n",
    "datasetHighImp = datasetWithoutCorr[collist]\n",
    "\n",
    "# Dataset dim\n",
    "print(datasetHighImp.shape)\n",
    "\n",
    "# New correlations\n",
    "pd.DataFrame(datasetHighImp.corr(method='pearson')).to_csv('correlations.csv')"
   ]
  },
  {
   "cell_type": "code",
   "execution_count": 126,
   "metadata": {
    "collapsed": false
   },
   "outputs": [],
   "source": [
    "######################################################################################################\n",
    "# Some \"global\" parameters\n",
    "#####################################################################################################\n",
    "seed = 7\n",
    "scoring = 'recall'\n",
    "test_size = 0.25\n",
    "n_splits = 10\n",
    "kfold = KFold(n_splits=n_splits, random_state=seed) "
   ]
  },
  {
   "cell_type": "code",
   "execution_count": 127,
   "metadata": {
    "collapsed": false
   },
   "outputs": [],
   "source": [
    "######################################################################################################\n",
    "# Random split\n",
    "#####################################################################################################\n",
    "\n",
    "# Prepare the dataset\n",
    "X = datasetHighImp.values\n",
    "Y = target\n",
    "\n",
    "# Split into train and test sets\n",
    "X_train, X_test, Y_train, Y_test = train_test_split(X, Y, test_size=test_size)"
   ]
  },
  {
   "cell_type": "code",
   "execution_count": 94,
   "metadata": {
    "collapsed": false
   },
   "outputs": [
    {
     "name": "stdout",
     "output_type": "stream",
     "text": [
      "ADA: 0.669685 (0.024962)\n",
      "GB: 0.732109 (0.016884)\n",
      "RF: 0.760253 (0.022474)\n",
      "CART: 0.803690 (0.018850)\n"
     ]
    },
    {
     "data": {
      "image/png": "[encoded data removed]",
      "text/plain": [
       "<matplotlib.figure.Figure at 0x21329559a90>"
      ]
     },
     "metadata": {},
     "output_type": "display_data"
    }
   ],
   "source": [
    "# prepare models \n",
    "models = [] \n",
    "models.append(('ADA', AdaBoostClassifier())) \n",
    "models.append(('GB', GradientBoostingClassifier())) \n",
    "models.append(('RF', RandomForestClassifier())) \n",
    "models.append(('CART', DecisionTreeClassifier())) \n",
    "#models.append(('SVM', SVC()))\n",
    "\n",
    "# evaluate each model in turn \n",
    "results = [] \n",
    "names = [] \n",
    "\n",
    "for name, model in models: \n",
    "    cv_results = cross_val_score(model, X_train, Y_train, cv=kfold, scoring=scoring) \n",
    "    results.append(cv_results)\n",
    "    names.append(name)\n",
    "    msg = \"%s: %f (%f)\" % (name, cv_results.mean(), cv_results.std()) \n",
    "    print(msg)\n",
    "\n",
    "# Compare models\n",
    "fig = pyplot.figure() \n",
    "fig.suptitle('Algorithm Comparison') \n",
    "ax = fig.add_subplot(111) \n",
    "pyplot.boxplot(results) \n",
    "ax.set_xticklabels(names) \n",
    "pyplot.show()"
   ]
  },
  {
   "cell_type": "code",
   "execution_count": 129,
   "metadata": {
    "collapsed": false
   },
   "outputs": [
    {
     "ename": "TypeError",
     "evalue": "append() takes exactly one argument (2 given)",
     "output_type": "error",
     "traceback": [
      "\u001b[0;31m---------------------------------------------------------------------------\u001b[0m",
      "\u001b[0;31mTypeError\u001b[0m                                 Traceback (most recent call last)",
      "\u001b[0;32m<ipython-input-129-5445318fba12>\u001b[0m in \u001b[0;36m<module>\u001b[0;34m()\u001b[0m\n\u001b[1;32m      1\u001b[0m \u001b[1;31m# Create the baseline model (the best one from model comparison task)\u001b[0m\u001b[1;33m\u001b[0m\u001b[1;33m\u001b[0m\u001b[0m\n\u001b[1;32m      2\u001b[0m \u001b[0mestimators\u001b[0m \u001b[1;33m=\u001b[0m \u001b[1;33m[\u001b[0m\u001b[1;33m]\u001b[0m\u001b[1;33m\u001b[0m\u001b[0m\n\u001b[0;32m----> 3\u001b[0;31m \u001b[0mestimators\u001b[0m\u001b[1;33m.\u001b[0m\u001b[0mappend\u001b[0m\u001b[1;33m(\u001b[0m\u001b[1;34m'rpart'\u001b[0m\u001b[1;33m,\u001b[0m \u001b[0mDecisionTreeClassifier\u001b[0m\u001b[1;33m(\u001b[0m\u001b[0mrandom_state\u001b[0m \u001b[1;33m=\u001b[0m \u001b[0mseed\u001b[0m\u001b[1;33m)\u001b[0m\u001b[1;33m)\u001b[0m\u001b[1;33m\u001b[0m\u001b[0m\n\u001b[0m\u001b[1;32m      4\u001b[0m \u001b[0mbasesline\u001b[0m \u001b[1;33m=\u001b[0m \u001b[0mPipeline\u001b[0m\u001b[1;33m(\u001b[0m\u001b[0mestimators\u001b[0m\u001b[1;33m)\u001b[0m\u001b[1;33m\u001b[0m\u001b[0m\n\u001b[1;32m      5\u001b[0m \u001b[0mbaseline\u001b[0m\u001b[1;33m.\u001b[0m\u001b[0mfit\u001b[0m\u001b[1;33m(\u001b[0m\u001b[0mX_train\u001b[0m\u001b[1;33m,\u001b[0m \u001b[0mY_train\u001b[0m\u001b[1;33m)\u001b[0m\u001b[1;33m\u001b[0m\u001b[0m\n",
      "\u001b[0;31mTypeError\u001b[0m: append() takes exactly one argument (2 given)"
     ]
    }
   ],
   "source": [
    "# Create the baseline model (the best one from model comparison task)\n",
    "baseline = DecisionTreeClassifier(random_state = seed)\n",
    "baseline.fit(X_train, Y_train)\n",
    "\n",
    "# Feature importance\n",
    "featureName = pd.DataFrame(datasetHighImp.columns, columns=['Feature'])\n",
    "featureImp = pd.DataFrame(baseline.feature_importances_, columns=['Imp'])\n",
    "pd.concat([featureName, featureImp], axis=1).to_csv('varImpTree.csv')\n",
    "\n",
    "# Test the best model\n",
    "predictions = baseline.predict(X_test)\n",
    "print(confusion_matrix(Y_test, predictions))\n",
    "print(classification_report(Y_test, predictions))"
   ]
  },
  {
   "cell_type": "code",
   "execution_count": 12,
   "metadata": {
    "collapsed": false
   },
   "outputs": [],
   "source": [
    "# Save the model to disk \n",
    "filename = 'binary_class_model.sav' \n",
    "dump(baseline, open(filename, 'wb'))\n",
    "\n",
    "# load the model from disk \n",
    "#loaded_model = load(open(filename, 'rb')) \n",
    "#result = loaded_model.score(X_test, Y_test) \n",
    "#print(result)# Create the final model"
   ]
  },
  {
   "cell_type": "code",
   "execution_count": null,
   "metadata": {
    "collapsed": true
   },
   "outputs": [],
   "source": []
  }
 ],
 "metadata": {
  "anaconda-cloud": {},
  "kernelspec": {
   "display_name": "Python [Root]",
   "language": "python",
   "name": "Python [Root]"
  },
  "language_info": {
   "codemirror_mode": {
    "name": "ipython",
    "version": 2
   },
   "file_extension": ".py",
   "mimetype": "text/x-python",
   "name": "python",
   "nbconvert_exporter": "python",
   "pygments_lexer": "ipython2",
   "version": "2.7.12"
  }
 },
 "nbformat": 4,
 "nbformat_minor": 1
}
